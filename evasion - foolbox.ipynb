{
 "cells": [
  {
   "cell_type": "markdown",
   "id": "bc979325-cd87-440d-ba5f-81cdccf0fdb3",
   "metadata": {},
   "source": [
    "# Evasion - foolbox\n",
    "\n",
    "https://github.com/jonasrauber/foolbox-native-tutorial/blob/master/foolbox-native-tutorial.ipynb"
   ]
  },
  {
   "cell_type": "code",
   "execution_count": 1,
   "id": "ac0cf613-bfe5-4420-904d-4fd73a862c13",
   "metadata": {},
   "outputs": [],
   "source": [
    "import foolbox as fb"
   ]
  },
  {
   "cell_type": "code",
   "execution_count": 8,
   "id": "1a99e3ca-f632-4f9c-bbcd-592884ba6313",
   "metadata": {},
   "outputs": [],
   "source": [
    "import torch\n",
    "import torchvision\n",
    "import tensorflow as tf"
   ]
  },
  {
   "cell_type": "markdown",
   "id": "6f9ff77f-ce78-432a-9b8f-2da68fae12b0",
   "metadata": {},
   "source": [
    "Pytorch"
   ]
  },
  {
   "cell_type": "code",
   "execution_count": 13,
   "id": "5ba65baf-c98f-4a30-8b3d-c24bc4464e9f",
   "metadata": {},
   "outputs": [
    {
     "name": "stderr",
     "output_type": "stream",
     "text": [
      "C:\\Users\\Usuario\\Anaconda3\\envs\\redai\\Lib\\site-packages\\torchvision\\models\\_utils.py:208: UserWarning: The parameter 'pretrained' is deprecated since 0.13 and may be removed in the future, please use 'weights' instead.\n",
      "  warnings.warn(\n",
      "C:\\Users\\Usuario\\Anaconda3\\envs\\redai\\Lib\\site-packages\\torchvision\\models\\_utils.py:223: UserWarning: Arguments other than a weight enum or `None` for 'weights' are deprecated since 0.13 and may be removed in the future. The current behavior is equivalent to passing `weights=ResNet18_Weights.IMAGENET1K_V1`. You can also use `weights=ResNet18_Weights.DEFAULT` to get the most up-to-date weights.\n",
      "  warnings.warn(msg)\n"
     ]
    }
   ],
   "source": [
    "# model\n",
    "model = torchvision.models.resnet18(pretrained=True)"
   ]
  },
  {
   "cell_type": "code",
   "execution_count": 14,
   "id": "0393ca61-b9c8-4df5-bd45-2ecb2ba5f787",
   "metadata": {},
   "outputs": [],
   "source": [
    "model = model.eval()"
   ]
  },
  {
   "cell_type": "markdown",
   "id": "669b8516-d76d-44ec-95d1-f22b0a22c1ec",
   "metadata": {},
   "source": [
    "Tensorflow"
   ]
  },
  {
   "cell_type": "code",
   "execution_count": 12,
   "id": "7e6a4a5f-4d7f-423e-a938-9580c77cd3a2",
   "metadata": {},
   "outputs": [
    {
     "name": "stdout",
     "output_type": "stream",
     "text": [
      "Downloading data from https://storage.googleapis.com/tensorflow/keras-applications/mobilenet_v2/mobilenet_v2_weights_tf_dim_ordering_tf_kernels_1.0_224.h5\n",
      "\u001b[1m14536120/14536120\u001b[0m \u001b[32m━━━━━━━━━━━━━━━━━━━━\u001b[0m\u001b[37m\u001b[0m \u001b[1m1s\u001b[0m 0us/step\n"
     ]
    }
   ],
   "source": [
    "model = tf.keras.applications.MobileNetV2(weights=\"imagenet\")"
   ]
  },
  {
   "cell_type": "markdown",
   "id": "f503fcf1-1ac3-4b56-9a34-7ff559058296",
   "metadata": {},
   "source": [
    "***"
   ]
  },
  {
   "cell_type": "code",
   "execution_count": 15,
   "id": "588128fb-7d5b-4dcc-b0de-14f20e4dc315",
   "metadata": {},
   "outputs": [],
   "source": [
    "preprocessing = dict(mean=[0.485, 0.456, 0.406], std=[0.229, 0.224, 0.225], axis=-3)\n",
    "bounds = (0, 1)\n",
    "fmodel = fb.PyTorchModel(model, bounds=bounds, preprocessing=preprocessing)"
   ]
  },
  {
   "cell_type": "markdown",
   "id": "4919cb3e-3a0e-4f37-908d-1f839a03b46c",
   "metadata": {},
   "source": [
    "## Transform bounds\n",
    "\n",
    "We are going to work with a model that has (0, 1) bounds, lets use fmodel.transform_bounds."
   ]
  },
  {
   "cell_type": "code",
   "execution_count": 16,
   "id": "e709cd96-30fd-4934-92fb-a90c20546f2e",
   "metadata": {},
   "outputs": [],
   "source": [
    "fmodel = fmodel.transform_bounds((0, 1))"
   ]
  },
  {
   "cell_type": "markdown",
   "id": "7d91e8ed-787b-4a02-89b5-c1346984c240",
   "metadata": {},
   "source": [
    "## Samples"
   ]
  },
  {
   "cell_type": "code",
   "execution_count": 18,
   "id": "c96eed5e-5ecd-4f8a-97f3-8a07e91c652a",
   "metadata": {
    "scrolled": true
   },
   "outputs": [
    {
     "data": {
      "text/plain": [
       "tensor([243, 559, 438, 990, 949, 853, 609, 609, 915, 455, 541, 630, 741, 471,\n",
       "        129,  99], device='cuda:0')"
      ]
     },
     "execution_count": 18,
     "metadata": {},
     "output_type": "execute_result"
    }
   ],
   "source": [
    "images, labels = fb.utils.samples(fmodel, dataset='imagenet', batchsize=16)\n",
    "labels"
   ]
  },
  {
   "cell_type": "markdown",
   "id": "7dc8bb04-395e-44f6-b1e3-44eece1f6edd",
   "metadata": {},
   "source": [
    "Current accuracy"
   ]
  },
  {
   "cell_type": "code",
   "execution_count": 19,
   "id": "97399c78-d4d4-4424-a036-cfdb38488efd",
   "metadata": {},
   "outputs": [
    {
     "data": {
      "text/plain": [
       "0.9375"
      ]
     },
     "execution_count": 19,
     "metadata": {},
     "output_type": "execute_result"
    }
   ],
   "source": [
    "fb.utils.accuracy(fmodel, images, labels)"
   ]
  },
  {
   "cell_type": "markdown",
   "id": "f128d615-30c8-4fd7-b0f0-fddaaa67575a",
   "metadata": {},
   "source": [
    "## Attack"
   ]
  },
  {
   "cell_type": "code",
   "execution_count": 20,
   "id": "0f406e74-4c2a-4bac-a135-968922819511",
   "metadata": {},
   "outputs": [],
   "source": [
    "# the next attack is based on DeepFool - https://arxiv.org/abs/1511.04599\n",
    "attack = fb.attacks.LinfDeepFoolAttack()"
   ]
  },
  {
   "cell_type": "code",
   "execution_count": 21,
   "id": "fe0d4e61-50e5-4b8b-9f50-358653604178",
   "metadata": {},
   "outputs": [],
   "source": [
    "raw, clipped, is_adv = attack(fmodel, images, labels, epsilons=0.03)"
   ]
  },
  {
   "cell_type": "code",
   "execution_count": 22,
   "id": "db162c17-99ed-481d-ae18-c56c5dd72e0c",
   "metadata": {},
   "outputs": [
    {
     "data": {
      "text/plain": [
       "tensor([True, True, True, True, True, True, True, True, True, True, True, True,\n",
       "        True, True, True, True], device='cuda:0')"
      ]
     },
     "execution_count": 22,
     "metadata": {},
     "output_type": "execute_result"
    }
   ],
   "source": [
    "is_adv"
   ]
  },
  {
   "cell_type": "code",
   "execution_count": 28,
   "id": "6ed1642f-6192-4270-a8e0-0c52c450eb2e",
   "metadata": {},
   "outputs": [
    {
     "ename": "NameError",
     "evalue": "name 'advs' is not defined",
     "output_type": "error",
     "traceback": [
      "\u001b[1;31m---------------------------------------------------------------------------\u001b[0m",
      "\u001b[1;31mNameError\u001b[0m                                 Traceback (most recent call last)",
      "Cell \u001b[1;32mIn[28], line 1\u001b[0m\n\u001b[1;32m----> 1\u001b[0m fb\u001b[38;5;241m.\u001b[39mplot\u001b[38;5;241m.\u001b[39mimages(\u001b[43madvs\u001b[49m)\n",
      "\u001b[1;31mNameError\u001b[0m: name 'advs' is not defined"
     ]
    }
   ],
   "source": [
    "\n",
    "fb.plot.images(advs)"
   ]
  }
 ],
 "metadata": {
  "kernelspec": {
   "display_name": "Python 3 (ipykernel)",
   "language": "python",
   "name": "python3"
  },
  "language_info": {
   "codemirror_mode": {
    "name": "ipython",
    "version": 3
   },
   "file_extension": ".py",
   "mimetype": "text/x-python",
   "name": "python",
   "nbconvert_exporter": "python",
   "pygments_lexer": "ipython3",
   "version": "3.11.9"
  }
 },
 "nbformat": 4,
 "nbformat_minor": 5
}
