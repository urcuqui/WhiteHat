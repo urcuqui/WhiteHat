{
 "cells": [
  {
   "cell_type": "markdown",
   "id": "908c2f9d-2e53-4ac7-8bf7-71ab49c35774",
   "metadata": {},
   "source": [
    "We will be fine-tuning a pretrained Data-efficient Image Transformer (DeiT) model available. We will apply the Projected Gradient Descent (PGD) attack.\n",
    "\n",
    "https://github.com/Trusted-AI/adversarial-robustness-toolbox/blob/main/notebooks/hugging_face_evasion.ipynb"
   ]
  },
  {
   "cell_type": "code",
   "execution_count": 1,
   "id": "9b5f5b8b-22da-4cf5-9fc5-6c8bfef1d63c",
   "metadata": {},
   "outputs": [],
   "source": [
    "import os\n",
    "\n",
    "import numpy as np\n",
    "import matplotlib.pyplot as plt\n",
    "import torch\n",
    "import transformers\n",
    "\n",
    "from art.estimators.classification.hugging_face import HuggingFaceClassifierPyTorch\n",
    "from art.attacks.evasion import ProjectedGradientDescentPyTorch\n",
    "from art.defences.trainer import AdversarialTrainerMadryPGD\n",
    "from art.utils import load_dataset\n",
    "\n",
    "device = torch.device('cuda' if torch.cuda.is_available() else 'cpu')"
   ]
  },
  {
   "cell_type": "code",
   "execution_count": 2,
   "id": "3f99a64a-d591-4351-be3e-4bcf03b96e73",
   "metadata": {},
   "outputs": [
    {
     "name": "stdout",
     "output_type": "stream",
     "text": [
      "x_subset: float32 (1000, 3, 32, 32)\n",
      "y_subset: int64 (1000,)\n"
     ]
    }
   ],
   "source": [
    "(x_train, y_train), (_,_), _,_ = load_dataset(\"cifar10\")\n",
    "\n",
    "x_train = np.transpose(x_train, (0, 3, 1, 2)).astype(np.float32)\n",
    "y_train = np.argmax(y_train, axis=1)\n",
    "\n",
    "classes = np.unique(y_train)\n",
    "samples_per_class = 100\n",
    "\n",
    "x_subset=[]\n",
    "y_subset=[]\n",
    "\n",
    "for c in classes:\n",
    "    indices = y_train == c\n",
    "    x_subset.append(x_train[indices][:samples_per_class])\n",
    "    y_subset.append(y_train[indices][:samples_per_class])\n",
    "\n",
    "x_subset = np.concatenate(x_subset)\n",
    "y_subset = np.concatenate(y_subset)\n",
    "\n",
    "print(f'x_subset:', x_subset.dtype, x_subset.shape)\n",
    "print(f'y_subset:', y_subset.dtype, y_subset.shape)"
   ]
  },
  {
   "cell_type": "code",
   "execution_count": 3,
   "id": "76e5cc39-e8a8-45cf-8f19-1ac1f479fd10",
   "metadata": {},
   "outputs": [],
   "source": [
    "label_names = [\n",
    "    'airplane',\n",
    "    'automobile',\n",
    "    'bird',\n",
    "    'cat',\n",
    "    'deer',\n",
    "    'dog',\n",
    "    'frog',\n",
    "    'horse',\n",
    "    'ship',\n",
    "    'truck',\n",
    "]"
   ]
  },
  {
   "cell_type": "code",
   "execution_count": 4,
   "id": "17a5ab7d-aee7-4f5a-896b-58e598eb0209",
   "metadata": {},
   "outputs": [],
   "source": [
    "if not os.path.isdir('./state_dicts'):\n",
    "    os.mkdir('./state_dicts')"
   ]
  },
  {
   "cell_type": "code",
   "execution_count": 5,
   "id": "fff7d0d3-47ed-4e17-a7f4-307a415ee225",
   "metadata": {},
   "outputs": [
    {
     "name": "stderr",
     "output_type": "stream",
     "text": [
      "Some weights of DeiTForImageClassificationWithTeacher were not initialized from the model checkpoint at facebook/deit-tiny-distilled-patch16-224 and are newly initialized because the shapes did not match:\n",
      "- cls_classifier.weight: found shape torch.Size([1000, 192]) in the checkpoint and torch.Size([10, 192]) in the model instantiated\n",
      "- cls_classifier.bias: found shape torch.Size([1000]) in the checkpoint and torch.Size([10]) in the model instantiated\n",
      "- distillation_classifier.weight: found shape torch.Size([1000, 192]) in the checkpoint and torch.Size([10, 192]) in the model instantiated\n",
      "- distillation_classifier.bias: found shape torch.Size([1000]) in the checkpoint and torch.Size([10]) in the model instantiated\n",
      "You should probably TRAIN this model on a down-stream task to be able to use it for predictions and inference.\n"
     ]
    },
    {
     "data": {
      "text/plain": [
       "DeiTForImageClassificationWithTeacher(\n",
       "  (deit): DeiTModel(\n",
       "    (embeddings): DeiTEmbeddings(\n",
       "      (patch_embeddings): DeiTPatchEmbeddings(\n",
       "        (projection): Conv2d(3, 192, kernel_size=(16, 16), stride=(16, 16))\n",
       "      )\n",
       "      (dropout): Dropout(p=0.0, inplace=False)\n",
       "    )\n",
       "    (encoder): DeiTEncoder(\n",
       "      (layer): ModuleList(\n",
       "        (0-11): 12 x DeiTLayer(\n",
       "          (attention): DeiTSdpaAttention(\n",
       "            (attention): DeiTSdpaSelfAttention(\n",
       "              (query): Linear(in_features=192, out_features=192, bias=True)\n",
       "              (key): Linear(in_features=192, out_features=192, bias=True)\n",
       "              (value): Linear(in_features=192, out_features=192, bias=True)\n",
       "              (dropout): Dropout(p=0.0, inplace=False)\n",
       "            )\n",
       "            (output): DeiTSelfOutput(\n",
       "              (dense): Linear(in_features=192, out_features=192, bias=True)\n",
       "              (dropout): Dropout(p=0.0, inplace=False)\n",
       "            )\n",
       "          )\n",
       "          (intermediate): DeiTIntermediate(\n",
       "            (dense): Linear(in_features=192, out_features=768, bias=True)\n",
       "            (intermediate_act_fn): GELUActivation()\n",
       "          )\n",
       "          (output): DeiTOutput(\n",
       "            (dense): Linear(in_features=768, out_features=192, bias=True)\n",
       "            (dropout): Dropout(p=0.0, inplace=False)\n",
       "          )\n",
       "          (layernorm_before): LayerNorm((192,), eps=1e-12, elementwise_affine=True)\n",
       "          (layernorm_after): LayerNorm((192,), eps=1e-12, elementwise_affine=True)\n",
       "        )\n",
       "      )\n",
       "    )\n",
       "    (layernorm): LayerNorm((192,), eps=1e-12, elementwise_affine=True)\n",
       "  )\n",
       "  (cls_classifier): Linear(in_features=192, out_features=10, bias=True)\n",
       "  (distillation_classifier): Linear(in_features=192, out_features=10, bias=True)\n",
       ")"
      ]
     },
     "execution_count": 5,
     "metadata": {},
     "output_type": "execute_result"
    }
   ],
   "source": [
    "model = transformers.AutoModelForImageClassification.from_pretrained(\n",
    "    'facebook/deit-tiny-distilled-patch16-224',\n",
    "    ignore_mismatched_sizes=True,\n",
    "    num_labels=10\n",
    ")\n",
    "model"
   ]
  },
  {
   "cell_type": "code",
   "execution_count": 6,
   "id": "40d28dbb-5451-49b9-9d67-cb5a6411027a",
   "metadata": {},
   "outputs": [
    {
     "data": {
      "text/plain": [
       "transformers.models.deit.modeling_deit.DeiTForImageClassificationWithTeacher"
      ]
     },
     "execution_count": 6,
     "metadata": {},
     "output_type": "execute_result"
    }
   ],
   "source": [
    "type(model)"
   ]
  },
  {
   "cell_type": "markdown",
   "id": "94a2db49-e0d1-4ff0-9615-fcf0766e67fe",
   "metadata": {},
   "source": [
    "Frequently we will be performing fine-tuning or transfer learning with vision transformers and so we may be fine-tuning on differently sized inputs.m\n",
    "+ The input_shape arguments refers to the shape of the supplied input data which may be different to the shape required by the model\n",
    "     - To handle this HuggingFaceClassifierPyTorch has an extra argument of processor which will act on.\n",
    "+ Here the processor is a simple upsampler to enlarge the cifar images into the right size"
   ]
  },
  {
   "cell_type": "code",
   "execution_count": 7,
   "id": "17eeee9a-e345-4f15-b0f8-c43b7ceb0f2a",
   "metadata": {},
   "outputs": [],
   "source": [
    "upsampler = torch.nn.Upsample(scale_factor=7, mode=\"nearest\")\n",
    "optimizer = torch.optim.Adam(model.parameters(), lr=1e-4)\n",
    "loss_fn = torch.nn.CrossEntropyLoss()\n",
    "hf_model = HuggingFaceClassifierPyTorch(\n",
    "    model=model,\n",
    "    loss=loss_fn,\n",
    "    optimizer=optimizer,\n",
    "    input_shape =(3,32,32),\n",
    "    nb_classes=10,\n",
    "    clip_values=(0,1),\n",
    "    processor=upsampler\n",
    ")"
   ]
  },
  {
   "cell_type": "code",
   "execution_count": 8,
   "id": "9658f327-21e6-4e9c-9a9f-07d0359a2978",
   "metadata": {},
   "outputs": [
    {
     "name": "stdout",
     "output_type": "stream",
     "text": [
      "loaded model checkpoint\n"
     ]
    },
    {
     "name": "stderr",
     "output_type": "stream",
     "text": [
      "C:\\Users\\Usuario\\AppData\\Local\\Temp\\ipykernel_15344\\1523934489.py:5: FutureWarning: You are using `torch.load` with `weights_only=False` (the current default value), which uses the default pickle module implicitly. It is possible to construct malicious pickle data which will execute arbitrary code during unpickling (See https://github.com/pytorch/pytorch/blob/main/SECURITY.md#untrusted-models for more details). In a future release, the default value for `weights_only` will be flipped to `True`. This limits the functions that could be executed during unpickling. Arbitrary objects will no longer be allowed to be loaded via this mode unless they are explicitly allowlisted by the user via `torch.serialization.add_safe_globals`. We recommend you start setting `weights_only=True` for any use case where you don't have full control of the loaded file. Please open an issue on GitHub for any issues related to this experimental feature.\n",
      "  hf_model.model.load_state_dict(torch.load(model_checkpoint_path, map_location=device))\n"
     ]
    }
   ],
   "source": [
    "# load saved model if it already exists, otherwise train it\n",
    "\n",
    "model_checkpoint_path = './state_dicts/deit_cifar_base_model.pt'\n",
    "if os.path.isfile(model_checkpoint_path):\n",
    "    hf_model.model.load_state_dict(torch.load(model_checkpoint_path, map_location=device))\n",
    "    print('loaded model checkpoint')\n",
    "else:\n",
    "    hf_model.fit(x_subset, y_subset, nb_epochs=5)\n",
    "    torch.save(hf_model.model.state_dict(), model_checkpoint_path)\n",
    "    print('saved model checkpoint')"
   ]
  },
  {
   "cell_type": "code",
   "execution_count": 9,
   "id": "a0354301-e5e9-479a-8e89-2a08b1b3a7ae",
   "metadata": {},
   "outputs": [
    {
     "name": "stderr",
     "output_type": "stream",
     "text": [
      "C:\\Users\\Usuario\\Anaconda3\\envs\\redai\\Lib\\site-packages\\transformers\\models\\deit\\modeling_deit.py:208: UserWarning: 1Torch was not compiled with flash attention. (Triggered internally at C:\\actions-runner\\_work\\pytorch\\pytorch\\builder\\windows\\pytorch\\aten\\src\\ATen\\native\\transformers\\cuda\\sdp_utils.cpp:555.)\n",
      "  context_layer = torch.nn.functional.scaled_dot_product_attention(\n"
     ]
    },
    {
     "name": "stdout",
     "output_type": "stream",
     "text": [
      "clean accuracy: 0.908\n"
     ]
    }
   ],
   "source": [
    "outputs = hf_model.predict(x_subset)\n",
    "clean_preds = np.argmax(outputs, axis=1)\n",
    "clean_acc = np.mean(clean_preds == y_subset)\n",
    "print('clean accuracy:', clean_acc)"
   ]
  },
  {
   "cell_type": "code",
   "execution_count": 10,
   "id": "0d20ef56-8e63-47a8-93f7-0f2bf3f0aae0",
   "metadata": {},
   "outputs": [
    {
     "data": {
      "image/png": "[encoded data removed]",
      "text/plain": [
       "<Figure size 640x480 with 1 Axes>"
      ]
     },
     "metadata": {},
     "output_type": "display_data"
    }
   ],
   "source": [
    "plt.imshow(np.transpose(x_subset[1], (1, 2, 0)))\n",
    "plt.title(f'Prediction: {label_names[clean_preds[1]]}')\n",
    "plt.axis('off')\n",
    "plt.show()"
   ]
  },
  {
   "cell_type": "markdown",
   "id": "3824eb4b-a034-4bcd-a7d6-42dcbed42971",
   "metadata": {},
   "source": [
    "At this point we have our target model trained"
   ]
  },
  {
   "cell_type": "markdown",
   "id": "be2c3bb2-b28d-427f-bec0-caf7b54606c6",
   "metadata": {},
   "source": [
    "## adversarial attack / evasion"
   ]
  },
  {
   "cell_type": "code",
   "execution_count": 11,
   "id": "37cd0cf7-49aa-4045-9570-8b89ca1c019e",
   "metadata": {},
   "outputs": [
    {
     "name": "stdout",
     "output_type": "stream",
     "text": [
      "adversarial accuracy: 0.024\n"
     ]
    }
   ],
   "source": [
    "adv_samples_path = './state_dicts/x_adv_base.npy'\n",
    "if os.path.isfile(adv_samples_path):\n",
    "    x_adv = np.load(adv_samples_path)\n",
    "else:\n",
    "    attacker = ProjectedGradientDescentPyTorch(hf_model, eps=8/255, eps_step=1/255)\n",
    "    x_adv = attacker.generate(x_subset)\n",
    "    np.save(adv_samples_path, x_adv)\n",
    "\n",
    "outputs = hf_model.predict(x_adv)\n",
    "adv_preds = np.argmax(outputs, axis=1)\n",
    "adv_acc = np.mean(adv_preds == y_subset)\n",
    "print('adversarial accuracy:', adv_acc)"
   ]
  },
  {
   "cell_type": "code",
   "execution_count": 12,
   "id": "b8a75d0b-86cf-403e-8f78-74d344f34bd4",
   "metadata": {},
   "outputs": [
    {
     "data": {
      "text/plain": [
       "1000"
      ]
     },
     "execution_count": 12,
     "metadata": {},
     "output_type": "execute_result"
    }
   ],
   "source": [
    "len(np.argmax(outputs, axis=1))"
   ]
  },
  {
   "cell_type": "code",
   "execution_count": 13,
   "id": "425400de-2b77-4e78-9ed5-2b81f3c2b617",
   "metadata": {},
   "outputs": [
    {
     "data": {
      "image/png": "[encoded data removed]",
      "text/plain": [
       "<Figure size 640x480 with 1 Axes>"
      ]
     },
     "metadata": {},
     "output_type": "display_data"
    }
   ],
   "source": [
    "plt.imshow(np.transpose(x_adv[1], (1, 2, 0)))\n",
    "plt.title(f'Prediction: {label_names[adv_preds[1]]}')\n",
    "plt.axis('off')\n",
    "plt.show()"
   ]
  },
  {
   "cell_type": "markdown",
   "id": "7c0dd08e-cf84-4c3c-9dd8-a545e5f7d08f",
   "metadata": {},
   "source": [
    "lets display the adversarial examples to highlight the added perturbation to the original sample"
   ]
  },
  {
   "cell_type": "code",
   "execution_count": 17,
   "id": "ffecb659-6156-4dc2-aeb2-b6c19674f64d",
   "metadata": {},
   "outputs": [
    {
     "name": "stderr",
     "output_type": "stream",
     "text": [
      "Clipping input data to the valid range for imshow with RGB data ([0..1] for floats or [0..255] for integers). Got range [-2.6077032e-07..0.62745106].\n",
      "Clipping input data to the valid range for imshow with RGB data ([0..1] for floats or [0..255] for integers). Got range [-2.6077032e-07..0.62745106].\n",
      "Clipping input data to the valid range for imshow with RGB data ([0..1] for floats or [0..255] for integers). Got range [-2.6077032e-07..0.62745106].\n"
     ]
    },
    {
     "data": {
      "image/png": "[encoded data removed]",
      "text/plain": [
       "<Figure size 640x480 with 12 Axes>"
      ]
     },
     "metadata": {},
     "output_type": "display_data"
    }
   ],
   "source": [
    "delta = ((x_subset - x_adv) + 8/255) * 10\n",
    "\n",
    "fig, axs = plt.subplots(3, 3)\n",
    "for i in range(3):\n",
    "    axs[i, 0].imshow(np.transpose(x_subset[i], (1, 2, 0)))\n",
    "    axs[i, 0].set_xlabel(label_names[clean_preds[i]])\n",
    "    axs[i, 0].tick_params(axis='both', which='both',length=0)\n",
    "    axs[i, 0].axes.xaxis.set_ticklabels([])\n",
    "    axs[i, 0].axes.yaxis.set_ticklabels([])\n",
    "    axs[i, 1].imshow(np.transpose(x_adv[i], (1, 2, 0)))\n",
    "    axs[i, 1].axes.xaxis.set_ticklabels([])\n",
    "    axs[i, 1].axes.yaxis.set_ticklabels([])\n",
    "    axs[i, 1].tick_params(axis='both', which='both',length=0)\n",
    "    axs[i, 1].set_xlabel(label_names[adv_preds[i]])\n",
    "    im = axs[i, 2].imshow(np.transpose(delta[i], (1, 2, 0)))\n",
    "    axs[i, 2].axis('off')\n",
    "    fig.colorbar(im)\n",
    "axs[0, 0].set_title('clean')\n",
    "axs[0, 1].set_title('adversarial')\n",
    "axs[0, 2].set_title('delta')\n",
    "plt.tight_layout()"
   ]
  },
  {
   "cell_type": "markdown",
   "id": "27eb6034-c5d0-44b9-a0b3-06329c9bdddd",
   "metadata": {},
   "source": [
    "lets save the adversarial output as png file."
   ]
  },
  {
   "cell_type": "code",
   "execution_count": 63,
   "id": "119552f8-9f7a-4d9e-9c5d-1c077e7a941c",
   "metadata": {},
   "outputs": [
    {
     "data": {
      "text/plain": [
       "(3, 32, 32)"
      ]
     },
     "execution_count": 63,
     "metadata": {},
     "output_type": "execute_result"
    }
   ],
   "source": [
    "x_adv[1].shape"
   ]
  },
  {
   "cell_type": "code",
   "execution_count": 44,
   "id": "fcdfa59a-314f-4923-a0c7-8481dec212c9",
   "metadata": {},
   "outputs": [
    {
     "data": {
      "text/plain": [
       "(32, 32, 3)"
      ]
     },
     "execution_count": 44,
     "metadata": {},
     "output_type": "execute_result"
    }
   ],
   "source": [
    "np.transpose(x_adv[1], (1, 2, 0)).shape"
   ]
  },
  {
   "cell_type": "code",
   "execution_count": 68,
   "id": "a9c7ba5b-c57a-45f2-864b-bef57045df69",
   "metadata": {},
   "outputs": [],
   "source": [
    "import matplotlib.image\n",
    "\n",
    "matplotlib.image.imsave('name.png', np.transpose(x_adv[1], (1, 2, 0)))"
   ]
  },
  {
   "cell_type": "code",
   "execution_count": 76,
   "id": "e2a100ca-27d5-4b40-9c3a-6a11cbcafbbb",
   "metadata": {},
   "outputs": [
    {
     "name": "stdout",
     "output_type": "stream",
     "text": [
      "PNG\n",
      "(32, 32)\n",
      "RGBA\n"
     ]
    }
   ],
   "source": [
    "assessment_img = Image.open('name.png')\n",
    " \n",
    "# summarize some details about the image\n",
    "print(assessment_img.format)\n",
    "print(assessment_img.size)\n",
    "print(assessment_img.mode)"
   ]
  },
  {
   "cell_type": "code",
   "execution_count": 77,
   "id": "1e86a18b-38c0-47cf-8575-90b9827751c9",
   "metadata": {},
   "outputs": [],
   "source": [
    "assessment_img = assessment_img.convert(\"RGB\")\n",
    "assessment_img = np.array(assessment_img)\n",
    "assessment_img = assessment_img.transpose(2, 0, 1)"
   ]
  },
  {
   "cell_type": "code",
   "execution_count": 78,
   "id": "c02c1a31-51c0-4bb2-82e1-9da1d9a9f0ff",
   "metadata": {},
   "outputs": [
    {
     "name": "stdout",
     "output_type": "stream",
     "text": [
      "(3, 32, 32)\n",
      "(3, 32, 32)\n"
     ]
    }
   ],
   "source": [
    "print(assessment_img.shape)\n",
    "print(x_adv[1].shape)"
   ]
  },
  {
   "cell_type": "code",
   "execution_count": 83,
   "id": "da09cde0-7903-4fa1-b44c-3729224a3f2d",
   "metadata": {},
   "outputs": [
    {
     "data": {
      "text/plain": [
       "(1, 3, 32, 32)"
      ]
     },
     "execution_count": 83,
     "metadata": {},
     "output_type": "execute_result"
    }
   ],
   "source": [
    "np.expand_dims(assessment_img, axis=0).shape"
   ]
  },
  {
   "cell_type": "code",
   "execution_count": 95,
   "id": "c9b06c06-a60b-4945-bf78-6a470479df87",
   "metadata": {},
   "outputs": [
    {
     "data": {
      "text/plain": [
       "array([[-0.06302121, -0.38051957, -0.10291496, -0.43372926,  1.575228  ,\n",
       "        -1.2443254 ,  1.1026785 ,  0.7535002 ,  0.48075587, -0.43811944]],\n",
       "      dtype=float32)"
      ]
     },
     "execution_count": 95,
     "metadata": {},
     "output_type": "execute_result"
    }
   ],
   "source": [
    "outputs"
   ]
  },
  {
   "cell_type": "code",
   "execution_count": 94,
   "id": "1bed976e-d099-4347-97d0-265546967a34",
   "metadata": {},
   "outputs": [
    {
     "name": "stderr",
     "output_type": "stream",
     "text": [
      "C:\\Users\\Usuario\\AppData\\Local\\Temp\\ipykernel_15344\\3119859206.py:4: DeprecationWarning: Conversion of an array with ndim > 0 to a scalar is deprecated, and will error in future. Ensure you extract a single element from your array before performing this operation. (Deprecated NumPy 1.25.)\n",
      "  plt.title(f'Prediction: {label_names[int(adv_preds_one)]}')\n"
     ]
    },
    {
     "data": {
      "image/png": "[encoded data removed]",
      "text/plain": [
       "<Figure size 640x480 with 1 Axes>"
      ]
     },
     "metadata": {},
     "output_type": "display_data"
    }
   ],
   "source": [
    "outputs = hf_model.predict(np.expand_dims(assessment_img, axis=0))\n",
    "adv_preds_one = np.argmax(outputs, axis=1)\n",
    "plt.imshow(np.transpose(assessment_img, (1, 2, 0)))\n",
    "plt.title(f'Prediction: {label_names[int(adv_preds_one)]}')\n",
    "plt.axis('off')\n",
    "plt.show()"
   ]
  },
  {
   "cell_type": "markdown",
   "id": "9a27aa38-7224-4594-ada7-725cbcd2e832",
   "metadata": {},
   "source": [
    "## Adversarial training with ART"
   ]
  },
  {
   "cell_type": "code",
   "execution_count": 96,
   "id": "c0d3d4a4-0a92-4cfb-996d-38d32a935e3f",
   "metadata": {},
   "outputs": [
    {
     "data": {
      "text/plain": [
       "\u001b[1;31mInit signature:\u001b[0m\n",
       "\u001b[0mAdversarialTrainerMadryPGD\u001b[0m\u001b[1;33m(\u001b[0m\u001b[1;33m\n",
       "\u001b[0m    \u001b[0mclassifier\u001b[0m\u001b[1;33m:\u001b[0m \u001b[1;34m\"'CLASSIFIER_LOSS_GRADIENTS_TYPE'\"\u001b[0m\u001b[1;33m,\u001b[0m\u001b[1;33m\n",
       "\u001b[0m    \u001b[0mnb_epochs\u001b[0m\u001b[1;33m:\u001b[0m \u001b[1;34m'int | None'\u001b[0m \u001b[1;33m=\u001b[0m \u001b[1;36m205\u001b[0m\u001b[1;33m,\u001b[0m\u001b[1;33m\n",
       "\u001b[0m    \u001b[0mbatch_size\u001b[0m\u001b[1;33m:\u001b[0m \u001b[1;34m'int | None'\u001b[0m \u001b[1;33m=\u001b[0m \u001b[1;36m128\u001b[0m\u001b[1;33m,\u001b[0m\u001b[1;33m\n",
       "\u001b[0m    \u001b[0meps\u001b[0m\u001b[1;33m:\u001b[0m \u001b[1;34m'int | float'\u001b[0m \u001b[1;33m=\u001b[0m \u001b[1;36m8\u001b[0m\u001b[1;33m,\u001b[0m\u001b[1;33m\n",
       "\u001b[0m    \u001b[0meps_step\u001b[0m\u001b[1;33m:\u001b[0m \u001b[1;34m'int | float'\u001b[0m \u001b[1;33m=\u001b[0m \u001b[1;36m2\u001b[0m\u001b[1;33m,\u001b[0m\u001b[1;33m\n",
       "\u001b[0m    \u001b[0mmax_iter\u001b[0m\u001b[1;33m:\u001b[0m \u001b[1;34m'int'\u001b[0m \u001b[1;33m=\u001b[0m \u001b[1;36m7\u001b[0m\u001b[1;33m,\u001b[0m\u001b[1;33m\n",
       "\u001b[0m    \u001b[0mnum_random_init\u001b[0m\u001b[1;33m:\u001b[0m \u001b[1;34m'int'\u001b[0m \u001b[1;33m=\u001b[0m \u001b[1;36m1\u001b[0m\u001b[1;33m,\u001b[0m\u001b[1;33m\n",
       "\u001b[0m\u001b[1;33m)\u001b[0m \u001b[1;33m->\u001b[0m \u001b[1;34m'None'\u001b[0m\u001b[1;33m\u001b[0m\u001b[1;33m\u001b[0m\u001b[0m\n",
       "\u001b[1;31mDocstring:\u001b[0m     \n",
       "Class performing adversarial training following Madry's Protocol.\n",
       "\n",
       "| Paper link: https://arxiv.org/abs/1706.06083\n",
       "\n",
       "| Please keep in mind the limitations of defences. While adversarial training is widely regarded as a promising,\n",
       "    principled approach to making classifiers more robust (see https://arxiv.org/abs/1802.00420), very careful\n",
       "    evaluations are required to assess its effectiveness case by case (see https://arxiv.org/abs/1902.06705).\n",
       "\u001b[1;31mInit docstring:\u001b[0m\n",
       "Create an :class:`.AdversarialTrainerMadryPGD` instance.\n",
       "\n",
       "Default values are for CIFAR-10 in pixel range 0-255.\n",
       "\n",
       ":param classifier: Classifier to train adversarially.\n",
       ":param nb_epochs: Number of training epochs.\n",
       ":param batch_size: Size of the batch on which adversarial samples are generated.\n",
       ":param eps: Maximum perturbation that the attacker can introduce.\n",
       ":param eps_step: Attack step size (input variation) at each iteration.\n",
       ":param max_iter: The maximum number of iterations.\n",
       ":param num_random_init: Number of random initialisations within the epsilon ball. For num_random_init=0\n",
       "                        starting at the original input.\n",
       "\u001b[1;31mFile:\u001b[0m           c:\\users\\usuario\\anaconda3\\envs\\redai\\lib\\site-packages\\art\\defences\\trainer\\adversarial_trainer_madry_pgd.py\n",
       "\u001b[1;31mType:\u001b[0m           ABCMeta\n",
       "\u001b[1;31mSubclasses:\u001b[0m     "
      ]
     },
     "metadata": {},
     "output_type": "display_data"
    }
   ],
   "source": [
    "?AdversarialTrainerMadryPGD"
   ]
  },
  {
   "cell_type": "code",
   "execution_count": 97,
   "id": "8e69eed9-abfd-42d3-9b3a-6975910ff1eb",
   "metadata": {},
   "outputs": [
    {
     "name": "stderr",
     "output_type": "stream",
     "text": [
      "Some weights of DeiTForImageClassificationWithTeacher were not initialized from the model checkpoint at facebook/deit-tiny-distilled-patch16-224 and are newly initialized because the shapes did not match:\n",
      "- cls_classifier.weight: found shape torch.Size([1000, 192]) in the checkpoint and torch.Size([10, 192]) in the model instantiated\n",
      "- cls_classifier.bias: found shape torch.Size([1000]) in the checkpoint and torch.Size([10]) in the model instantiated\n",
      "- distillation_classifier.weight: found shape torch.Size([1000, 192]) in the checkpoint and torch.Size([10, 192]) in the model instantiated\n",
      "- distillation_classifier.bias: found shape torch.Size([1000]) in the checkpoint and torch.Size([10]) in the model instantiated\n",
      "You should probably TRAIN this model on a down-stream task to be able to use it for predictions and inference.\n"
     ]
    }
   ],
   "source": [
    "model = transformers.AutoModelForImageClassification.from_pretrained(\n",
    "    'facebook/deit-tiny-distilled-patch16-224',\n",
    "    ignore_mismatched_sizes=True,\n",
    "    num_labels=10\n",
    ")\n",
    "upsampler = torch.nn.Upsample(scale_factor=7, mode='nearest')\n",
    "optimizer = torch.optim.Adam(model.parameters(), lr=1e-4)\n",
    "loss_fn = torch.nn.CrossEntropyLoss()\n",
    "\n",
    "hf_model = HuggingFaceClassifierPyTorch(\n",
    "    model=model,\n",
    "    loss=loss_fn,\n",
    "    optimizer=optimizer,\n",
    "    input_shape=(3, 32, 32),\n",
    "    nb_classes=10,\n",
    "    clip_values=(0, 1),\n",
    "    processor=upsampler\n",
    ")\n",
    "\n",
    "trainer = AdversarialTrainerMadryPGD(\n",
    "    classifier=hf_model,\n",
    "    nb_epochs=10,\n",
    "    eps=8/255,\n",
    "    eps_step=1/255,\n",
    "    max_iter=10\n",
    ")"
   ]
  },
  {
   "cell_type": "code",
   "execution_count": 98,
   "id": "7d718c88-1a79-4f7f-be8e-d935aed7abc7",
   "metadata": {},
   "outputs": [
    {
     "data": {
      "application/vnd.jupyter.widget-view+json": {
       "model_id": "438395a7de2e41478010f42c20077551",
       "version_major": 2,
       "version_minor": 0
      },
      "text/plain": [
       "Precompute adv samples:   0%|          | 0/1 [00:00<?, ?it/s]"
      ]
     },
     "metadata": {},
     "output_type": "display_data"
    },
    {
     "data": {
      "application/vnd.jupyter.widget-view+json": {
       "model_id": "1b78e543ba824badad16f1a5c6b76a63",
       "version_major": 2,
       "version_minor": 0
      },
      "text/plain": [
       "Adversarial training epochs:   0%|          | 0/5 [00:00<?, ?it/s]"
      ]
     },
     "metadata": {},
     "output_type": "display_data"
    },
    {
     "name": "stdout",
     "output_type": "stream",
     "text": [
      "saved model checkpoint\n"
     ]
    }
   ],
   "source": [
    "# load saved model if it already exists, otherwise train it\n",
    "\n",
    "model_checkpoint_path = './state_dicts/deit_cifar_robust_model.pt'\n",
    "if os.path.isfile(model_checkpoint_path):\n",
    "    trainer.classifier.model.load_state_dict(torch.load(model_checkpoint_path, map_location=device))\n",
    "    print('loaded model checkpoint')\n",
    "else:\n",
    "    trainer.fit(x_subset, y_subset, nb_epochs=5)\n",
    "    torch.save(trainer.classifier.model.state_dict(), model_checkpoint_path)\n",
    "    print('saved model checkpoint')"
   ]
  },
  {
   "cell_type": "code",
   "execution_count": 99,
   "id": "91981f1d-6b47-4530-b414-5209c7818f91",
   "metadata": {},
   "outputs": [
    {
     "name": "stdout",
     "output_type": "stream",
     "text": [
      "clean accuracy: 0.101\n"
     ]
    }
   ],
   "source": [
    "outputs = trainer.classifier.predict(x_subset)\n",
    "clean_preds = np.argmax(outputs, axis=1)\n",
    "clean_acc = np.mean(clean_preds == y_subset)\n",
    "print('clean accuracy:', clean_acc)"
   ]
  },
  {
   "cell_type": "code",
   "execution_count": 100,
   "id": "6cc823f3-935a-4b5e-8221-8c3df4801e8b",
   "metadata": {},
   "outputs": [
    {
     "data": {
      "image/png": "[encoded data removed]",
      "text/plain": [
       "<Figure size 640x480 with 1 Axes>"
      ]
     },
     "metadata": {},
     "output_type": "display_data"
    }
   ],
   "source": [
    "plt.imshow(np.transpose(x_subset[1], (1, 2, 0)))\n",
    "plt.title(f'Prediction: {label_names[clean_preds[1]]}')\n",
    "plt.axis('off')\n",
    "plt.show()"
   ]
  },
  {
   "cell_type": "code",
   "execution_count": 101,
   "id": "aa15a774-0754-4758-a1b0-4782032b1df9",
   "metadata": {},
   "outputs": [
    {
     "data": {
      "application/vnd.jupyter.widget-view+json": {
       "model_id": "",
       "version_major": 2,
       "version_minor": 0
      },
      "text/plain": [
       "PGD - Batches:   0%|          | 0/32 [00:00<?, ?it/s]"
      ]
     },
     "metadata": {},
     "output_type": "display_data"
    },
    {
     "name": "stdout",
     "output_type": "stream",
     "text": [
      "adversarial accuracy: 0.102\n"
     ]
    }
   ],
   "source": [
    "# load adversarial samples if they already exist, otherwise generate them\n",
    "\n",
    "adv_samples_path = './state_dicts/x_adv_robust.npy'\n",
    "if os.path.isfile(adv_samples_path):\n",
    "    x_adv = np.load(adv_samples_path)\n",
    "else:\n",
    "    attacker = ProjectedGradientDescentPyTorch(trainer.classifier, eps=8/255, eps_step=1/255)\n",
    "    x_adv = attacker.generate(x_subset)\n",
    "    np.save(adv_samples_path, x_adv)\n",
    "\n",
    "outputs = trainer.classifier.predict(x_adv)\n",
    "adv_preds = np.argmax(outputs, axis=1)\n",
    "adv_acc = np.mean(adv_preds == y_subset)\n",
    "print('adversarial accuracy:', adv_acc)"
   ]
  },
  {
   "cell_type": "code",
   "execution_count": null,
   "id": "1e088728-7d54-4112-9a4a-817fc064bd24",
   "metadata": {},
   "outputs": [],
   "source": []
  }
 ],
 "metadata": {
  "kernelspec": {
   "display_name": "Python 3 (ipykernel)",
   "language": "python",
   "name": "python3"
  },
  "language_info": {
   "codemirror_mode": {
    "name": "ipython",
    "version": 3
   },
   "file_extension": ".py",
   "mimetype": "text/x-python",
   "name": "python",
   "nbconvert_exporter": "python",
   "pygments_lexer": "ipython3",
   "version": "3.11.9"
  }
 },
 "nbformat": 4,
 "nbformat_minor": 5
}
