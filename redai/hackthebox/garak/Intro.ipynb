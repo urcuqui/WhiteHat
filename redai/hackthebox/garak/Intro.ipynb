{
 "cells": [
  {
   "cell_type": "markdown",
   "id": "b3d96856-6148-43c7-ae75-52a7e8b04daa",
   "metadata": {},
   "source": [
    "##  garak LLM vulnerability scanner from NVidia "
   ]
  }
 ],
 "metadata": {
  "kernelspec": {
   "display_name": "Python 3 (ipykernel)",
   "language": "python",
   "name": "python3"
  },
  "language_info": {
   "codemirror_mode": {
    "name": "ipython",
    "version": 3
   },
   "file_extension": ".py",
   "mimetype": "text/x-python",
   "name": "python",
   "nbconvert_exporter": "python",
   "pygments_lexer": "ipython3",
   "version": "3.11.9"
  }
 },
 "nbformat": 4,
 "nbformat_minor": 5
}
