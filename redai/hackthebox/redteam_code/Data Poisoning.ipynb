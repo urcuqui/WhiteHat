{
 "cells": [
  {
   "cell_type": "code",
   "execution_count": 1,
   "id": "903eca45-9003-4ff0-aff4-c8eaedb68bb6",
   "metadata": {},
   "outputs": [],
   "source": [
    "import pandas as pd\n",
    "\n",
    "df = pd.read_csv(\"training_data.csv\")"
   ]
  },
  {
   "cell_type": "code",
   "execution_count": 6,
   "id": "7417edcc-fcb4-41c9-86de-1358a8549602",
   "metadata": {},
   "outputs": [
    {
     "name": "stdout",
     "output_type": "stream",
     "text": [
      "(2998, 2)\n"
     ]
    },
    {
     "data": {
      "text/html": [
       "<div>\n",
       "<style scoped>\n",
       "    .dataframe tbody tr th:only-of-type {\n",
       "        vertical-align: middle;\n",
       "    }\n",
       "\n",
       "    .dataframe tbody tr th {\n",
       "        vertical-align: top;\n",
       "    }\n",
       "\n",
       "    .dataframe thead th {\n",
       "        text-align: right;\n",
       "    }\n",
       "</style>\n",
       "<table border=\"1\" class=\"dataframe\">\n",
       "  <thead>\n",
       "    <tr style=\"text-align: right;\">\n",
       "      <th></th>\n",
       "      <th>label</th>\n",
       "      <th>message</th>\n",
       "    </tr>\n",
       "  </thead>\n",
       "  <tbody>\n",
       "    <tr>\n",
       "      <th>0</th>\n",
       "      <td>ham</td>\n",
       "      <td>I'll let you know when it kicks in</td>\n",
       "    </tr>\n",
       "    <tr>\n",
       "      <th>1</th>\n",
       "      <td>ham</td>\n",
       "      <td>I've told you everything will stop. Just dont ...</td>\n",
       "    </tr>\n",
       "  </tbody>\n",
       "</table>\n",
       "</div>"
      ],
      "text/plain": [
       "  label                                            message\n",
       "0   ham                 I'll let you know when it kicks in\n",
       "1   ham  I've told you everything will stop. Just dont ..."
      ]
     },
     "execution_count": 6,
     "metadata": {},
     "output_type": "execute_result"
    }
   ],
   "source": [
    "print(df.shape)\n",
    "df.head(2)"
   ]
  },
  {
   "cell_type": "code",
   "execution_count": 3,
   "id": "78c6e9de-aaf8-4fd7-a137-b24f5ba5b022",
   "metadata": {},
   "outputs": [],
   "source": [
    "df_two = df.head(101)"
   ]
  },
  {
   "cell_type": "code",
   "execution_count": 4,
   "id": "c47d196c-192a-4cdd-96eb-0451b3bc6ea2",
   "metadata": {},
   "outputs": [
    {
     "name": "stdout",
     "output_type": "stream",
     "text": [
      "12\n",
      "12\n",
      "(12, 2)\n"
     ]
    }
   ],
   "source": [
    "label = [\"spam\", \"spam\", \"spam\", \"ham\",\n",
    "                                \"ham\",\n",
    "                                  \"spam\",\n",
    "                                  \"ham\",\n",
    "                                 \"spam\", \"spam\", \"spam\"]\n",
    "print(len(label))\n",
    "messages = [\"Hello World! How are you\",\n",
    "                                                              \"World! How are you doing?\",\n",
    "                                                    \"Hey, my name is Tulio. I want to get more information about the role\",\n",
    "                                                   \"Congratulations! You won a prize.\",\n",
    "                                                \"Click here to claim: https://bit.ly/3YCN7PF\",\n",
    "                                                    \"https://bit.ly/3YCN7PF\",\n",
    "                                                     \"You are the winner\",\n",
    "                                                   \"You can unlock your account in the next 24h: https://bit.ly/3YCN7PF\",\n",
    "           \"my friend!\", \"I hope this emails finds you well\"]\n",
    "print(len(messages))\n",
    "new_rows = pd.DataFrame({\"label\":label, \"message\":messages})\n",
    "print(new_rows.shape)\n",
    "df_two = pd.concat([df_two, new_rows], ignore_index=True)"
   ]
  },
  {
   "cell_type": "code",
   "execution_count": 5,
   "id": "87924ee1-1cfb-4b2d-a53b-d76b21062207",
   "metadata": {},
   "outputs": [
    {
     "data": {
      "text/plain": [
       "(111, 2)"
      ]
     },
     "execution_count": 5,
     "metadata": {},
     "output_type": "execute_result"
    }
   ],
   "source": [
    "df_two.shape"
   ]
  },
  {
   "cell_type": "code",
   "execution_count": 5,
   "id": "03d1d08d-36c7-4946-8085-72ef811b6eab",
   "metadata": {},
   "outputs": [],
   "source": [
    "df_two.tail(12).to_csv(\"new_train.csv\",index=False)\n",
    "#df_two.to_csv(\"new_train.csv\",index=False)"
   ]
  },
  {
   "cell_type": "markdown",
   "id": "fe33d722-f93b-4893-92e2-4f1828d63b41",
   "metadata": {},
   "source": [
    "**Assessment**"
   ]
  },
  {
   "cell_type": "code",
   "execution_count": 4,
   "id": "3e4d0ee2-756f-46ba-b447-28eaf9ea717a",
   "metadata": {},
   "outputs": [
    {
     "name": "stdout",
     "output_type": "stream",
     "text": [
      "2\n",
      "2\n",
      "(2, 2)\n"
     ]
    }
   ],
   "source": [
    "label = [\"ham\", \"ham\"]\n",
    "print(len(label))\n",
    "messages = [\n",
    "           \"Best Regards, HackTheBox\", \"Hey, HackTheBox I have a question about hacking\"]\n",
    "print(len(messages))\n",
    "new_rows = pd.DataFrame({\"label\":label, \"message\":messages})\n",
    "print(new_rows.shape)\n",
    "df_two = pd.concat([df_two, new_rows], ignore_index=True)\n",
    "\n",
    "df_two.tail(100).to_csv(\"new_train_two.csv\",index=False)\n",
    "#df_two.to_csv(\"new_train.csv\",index=False)"
   ]
  },
  {
   "cell_type": "markdown",
   "id": "f182a92d-34da-4d49-833f-71758a2cc14a",
   "metadata": {},
   "source": [
    "***"
   ]
  },
  {
   "cell_type": "code",
   "execution_count": null,
   "id": "f806688a-ceb7-4d2f-b4b2-fc1152d70328",
   "metadata": {},
   "outputs": [],
   "source": []
  },
  {
   "cell_type": "code",
   "execution_count": 8,
   "id": "7e69b739-e104-4e08-9173-fc79406b3d94",
   "metadata": {},
   "outputs": [],
   "source": [
    "from main import *\n",
    "model = train(\"./train.csv\")"
   ]
  },
  {
   "cell_type": "code",
   "execution_count": 14,
   "id": "40761236-b265-4cf7-a24b-3cad1893cffc",
   "metadata": {},
   "outputs": [
    {
     "data": {
      "text/plain": [
       "array([[0.9989057, 0.0010943]])"
      ]
     },
     "execution_count": 14,
     "metadata": {},
     "output_type": "execute_result"
    }
   ],
   "source": [
    "classify_messages(model, \"I hope this emails finds you well\", return_probabilities=True)"
   ]
  },
  {
   "cell_type": "code",
   "execution_count": null,
   "id": "fe522447-c271-4686-8861-7cb3b95be37f",
   "metadata": {},
   "outputs": [],
   "source": [
    "# DO NOT CHANGE\n",
    "\n",
    "from alibi.utils import spacy_model"
   ]
  },
  {
   "cell_type": "code",
   "execution_count": null,
   "id": "14780ada-89c2-4a66-b2d9-4188b22bd9bb",
   "metadata": {},
   "outputs": [],
   "source": [
    "from alibi.explainers import AnchorText\n",
    "explainer = AnchorText(\n",
    "    predictor=predict,\n",
    "    sampling_strategy='unknown',\n",
    "    nlp=nlp\n",
    ")"
   ]
  },
  {
   "cell_type": "markdown",
   "id": "f6f31840-509d-4166-bcd4-9fca52051163",
   "metadata": {},
   "source": [
    "***"
   ]
  },
  {
   "cell_type": "code",
   "execution_count": 2,
   "id": "8ed280f3-3f00-442d-8207-00d3445e0ac9",
   "metadata": {},
   "outputs": [
    {
     "name": "stdout",
     "output_type": "stream",
     "text": [
      "Note: you may need to restart the kernel to use updated packages.\n"
     ]
    },
    {
     "name": "stderr",
     "output_type": "stream",
     "text": [
      "ERROR: Could not find a version that satisfies the requirement smtplib (from versions: none)\n",
      "ERROR: No matching distribution found for smtplib\n"
     ]
    }
   ],
   "source": [
    "pip install smtplib"
   ]
  },
  {
   "cell_type": "code",
   "execution_count": 10,
   "id": "5e24504d-33d6-48c1-87fb-7bd8fbef5b89",
   "metadata": {},
   "outputs": [
    {
     "name": "stdout",
     "output_type": "stream",
     "text": [
      "[+] Email enviado correctamente\n"
     ]
    }
   ],
   "source": [
    "import smtplib\n",
    "from email.mime.text import MIMEText\n",
    "\n",
    "# Configuración del servidor SMTP\n",
    "SMTP_SERVER = \"127.0.0.1\"\n",
    "SMTP_PORT = 2525\n",
    "SENDER = \"alice@llm.htb\"\n",
    "RECIPIENT = \"admin@llm.htb\"\n",
    "\n",
    "# Leer el contenido de mail.txt\n",
    "with open(\"mailtwo.txt\", \"r\", encoding=\"utf-8\") as f:\n",
    "    body = f.read()\n",
    "\n",
    "# Crear el mensaje MIME\n",
    "msg = MIMEText(body, \"html\")  # Define que el contenido es HTML\n",
    "msg[\"Subject\"] = \"HelloWorld\"\n",
    "msg[\"From\"] = SENDER\n",
    "msg[\"To\"] = RECIPIENT\n",
    "\n",
    "# Conectar con el servidor SMTP y enviar el correo\n",
    "try:\n",
    "    with smtplib.SMTP(SMTP_SERVER, SMTP_PORT) as server:\n",
    "        server.sendmail(SENDER, RECIPIENT, msg.as_string())\n",
    "    print(\"[+] Email enviado correctamente\")\n",
    "except Exception as e:\n",
    "    print(f\"[-] Error enviando el correo: {e}\")"
   ]
  },
  {
   "cell_type": "code",
   "execution_count": null,
   "id": "ceaf2bbc-73cf-465b-ba8b-cb28f1510035",
   "metadata": {},
   "outputs": [],
   "source": []
  }
 ],
 "metadata": {
  "kernelspec": {
   "display_name": "Python 3",
   "language": "python",
   "name": "python3"
  },
  "language_info": {
   "codemirror_mode": {
    "name": "ipython",
    "version": 3
   },
   "file_extension": ".py",
   "mimetype": "text/x-python",
   "name": "python",
   "nbconvert_exporter": "python",
   "pygments_lexer": "ipython3",
   "version": "3.7.4"
  }
 },
 "nbformat": 4,
 "nbformat_minor": 5
}
