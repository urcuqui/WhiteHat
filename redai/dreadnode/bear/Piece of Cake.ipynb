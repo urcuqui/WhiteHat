{
 "cells": [
  {
   "cell_type": "markdown",
   "id": "01495d1a-ca59-4a36-8f7b-90854800060e",
   "metadata": {},
   "source": [
    "# Piece of Cake"
   ]
  },
  {
   "cell_type": "code",
   "execution_count": null,
   "id": "89f0e59e-1296-43fb-9953-27728a86d83a",
   "metadata": {},
   "outputs": [],
   "source": []
  }
 ],
 "metadata": {
  "kernelspec": {
   "display_name": "Python 3 (ipykernel)",
   "language": "python",
   "name": "python3"
  },
  "language_info": {
   "codemirror_mode": {
    "name": "ipython",
    "version": 3
   },
   "file_extension": ".py",
   "mimetype": "text/x-python",
   "name": "python",
   "nbconvert_exporter": "python",
   "pygments_lexer": "ipython3",
   "version": "3.11.9"
  }
 },
 "nbformat": 4,
 "nbformat_minor": 5
}
