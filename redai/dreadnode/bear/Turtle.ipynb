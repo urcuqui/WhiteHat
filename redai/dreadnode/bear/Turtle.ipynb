{
 "cells": [
  {
   "cell_type": "markdown",
   "id": "a32e9297",
   "metadata": {},
   "source": [
    "# Turtle"
   ]
  },
  {
   "cell_type": "code",
   "execution_count": 1,
   "id": "03cd759a",
   "metadata": {},
   "outputs": [],
   "source": [
    "import os\n",
    "CHALLENGE = \"turtle\"\n",
    "CRUCIBLE_URL = \"https://platform.dreadnode.io\"\n",
    "CHALLENGE_URL = \"https://turtle.platform.dreadnode.io\"\n",
    "DREADNODE_API_KEY = os.getenv(\"DREADNODE_API_KEY\")"
   ]
  },
  {
   "cell_type": "code",
   "execution_count": 26,
   "id": "c9397590",
   "metadata": {},
   "outputs": [
    {
     "name": "stdout",
     "output_type": "stream",
     "text": [
      "{'output': 'JagaLLM either cannot complete this automation. Either the prompt is invalid or the code generated is invalid.'}\n"
     ]
    }
   ],
   "source": [
    "import requests\n",
    "\n",
    "\n",
    "def query(input_data):\n",
    "    response = requests.post(\n",
    "        f\"{CHALLENGE_URL}/score\",\n",
    "        headers={\"X-API-Key\": DREADNODE_API_KEY},\n",
    "        json={\"data\": input_data},\n",
    "    )\n",
    "    return response.json()\n",
    "\n",
    "\n",
    "response = query(\"hola\")\n",
    "print(response)\n"
   ]
  },
  {
   "cell_type": "code",
   "execution_count": 25,
   "id": "8a07ebb7",
   "metadata": {},
   "outputs": [
    {
     "data": {
      "text/plain": [
       "{'output': 'Unable to execute, there was an error parsing the generated code.'}"
      ]
     },
     "execution_count": 25,
     "metadata": {},
     "output_type": "execute_result"
    }
   ],
   "source": [
    "query(\"generate python: print(2+2)\")"
   ]
  }
 ],
 "metadata": {
  "kernelspec": {
   "display_name": "Python 3 (ipykernel)",
   "language": "python",
   "name": "python3"
  },
  "language_info": {
   "codemirror_mode": {
    "name": "ipython",
    "version": 3
   },
   "file_extension": ".py",
   "mimetype": "text/x-python",
   "name": "python",
   "nbconvert_exporter": "python",
   "pygments_lexer": "ipython3",
   "version": "3.10.9"
  }
 },
 "nbformat": 4,
 "nbformat_minor": 5
}
